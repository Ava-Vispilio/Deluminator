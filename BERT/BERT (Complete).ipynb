{
 "cells": [
  {
   "cell_type": "markdown",
   "id": "cc1f33c3-a877-4e6d-bd99-ac1da51fb5d8",
   "metadata": {},
   "source": [
    "# Start"
   ]
  },
  {
   "cell_type": "markdown",
   "id": "ab2dcd42-bbfb-4a24-a4da-b4fb2af8957b",
   "metadata": {},
   "source": [
    "Import Statements"
   ]
  },
  {
   "cell_type": "code",
   "execution_count": 1,
   "id": "26810ce2-278a-46d2-99ce-33bc34078156",
   "metadata": {},
   "outputs": [],
   "source": [
    "import numpy as np # linear Algebra\n",
    "import pandas as pd # Data Pre-processing \n",
    "import sklearn # Training\n",
    "\n",
    "import os\n",
    "import sys\n",
    "\n",
    "from sklearn.model_selection import train_test_split\n",
    "import matplotlib.pyplot as plt"
   ]
  },
  {
   "cell_type": "markdown",
   "id": "915db443-6cc6-49c2-866c-f620899932af",
   "metadata": {},
   "source": [
    "Import Neural Network and PyTorch Libraries"
   ]
  },
  {
   "cell_type": "code",
   "execution_count": 2,
   "id": "0c4ca443-ee9e-4843-b4ff-e0260c358bb6",
   "metadata": {},
   "outputs": [],
   "source": [
    "import torch\n",
    "import torch.nn as nn\n",
    "from torch.utils.data import Dataset, DataLoader\n",
    "import torch.nn.functional as f\n",
    "import torch.optim as optim"
   ]
  },
  {
   "cell_type": "markdown",
   "id": "a3aa3951-eaf4-45c2-822a-6997cf46058c",
   "metadata": {},
   "source": [
    "Test if Torch works"
   ]
  },
  {
   "cell_type": "code",
   "execution_count": 3,
   "id": "b5605177-8e4e-41db-824f-2774c3746f1d",
   "metadata": {},
   "outputs": [
    {
     "name": "stdout",
     "output_type": "stream",
     "text": [
      "CUDA is available. Using GPU.\n"
     ]
    }
   ],
   "source": [
    "if torch.cuda.is_available():\n",
    "    device = torch.device('cuda')\n",
    "    print(\"CUDA is available. Using GPU.\")\n",
    "else:\n",
    "    device = torch.device('cpu')\n",
    "    print(\"CUDA is not available. Using CPU.\")"
   ]
  },
  {
   "cell_type": "markdown",
   "id": "bc7cf58a-a14c-49eb-8be3-c19604e22da3",
   "metadata": {},
   "source": [
    "# Importing Data"
   ]
  },
  {
   "cell_type": "markdown",
   "id": "5cf4463b-ad77-4c1e-a629-71ea50806a37",
   "metadata": {},
   "source": [
    "Import dataset"
   ]
  },
  {
   "cell_type": "code",
   "execution_count": 4,
   "id": "31ccc610-10f2-4401-80ff-1e12e2a8ccf8",
   "metadata": {},
   "outputs": [
    {
     "name": "stdout",
     "output_type": "stream",
     "text": [
      "Training data read\n",
      "Validation data read\n",
      "Test data read\n"
     ]
    }
   ],
   "source": [
    "df_train = pd.read_csv('all_train.tsv' , sep='\\t')\n",
    "# Validate that data has been read\n",
    "print(\"Training data read\")\n",
    "\n",
    "df_validate = pd.read_csv('all_validate.tsv', sep='\\t')\n",
    "# Validate that data has been read\n",
    "print(\"Validation data read\")\n",
    "\n",
    "df_test = pd.read_csv('all_test_public.tsv', sep='\\t')\n",
    "# Validate that data has been read\n",
    "print(\"Test data read\")"
   ]
  },
  {
   "cell_type": "markdown",
   "id": "0e9f79fb-aae2-4337-a762-57c5c6e28a46",
   "metadata": {},
   "source": [
    "Let's see what data we have"
   ]
  },
  {
   "cell_type": "code",
   "execution_count": 5,
   "id": "69c8d901-e4f0-4553-b2ba-cd6ef8bd492e",
   "metadata": {},
   "outputs": [
    {
     "data": {
      "text/html": [
       "<div>\n",
       "<style scoped>\n",
       "    .dataframe tbody tr th:only-of-type {\n",
       "        vertical-align: middle;\n",
       "    }\n",
       "\n",
       "    .dataframe tbody tr th {\n",
       "        vertical-align: top;\n",
       "    }\n",
       "\n",
       "    .dataframe thead th {\n",
       "        text-align: right;\n",
       "    }\n",
       "</style>\n",
       "<table border=\"1\" class=\"dataframe\">\n",
       "  <thead>\n",
       "    <tr style=\"text-align: right;\">\n",
       "      <th></th>\n",
       "      <th>Unnamed: 0.2</th>\n",
       "      <th>Unnamed: 0</th>\n",
       "      <th>Unnamed: 0.1</th>\n",
       "      <th>Unnamed: 0.1.1</th>\n",
       "      <th>author</th>\n",
       "      <th>clean_title</th>\n",
       "      <th>created_utc</th>\n",
       "      <th>domain</th>\n",
       "      <th>hasImage</th>\n",
       "      <th>id</th>\n",
       "      <th>image_url</th>\n",
       "      <th>linked_submission_id</th>\n",
       "      <th>num_comments</th>\n",
       "      <th>score</th>\n",
       "      <th>subreddit</th>\n",
       "      <th>title</th>\n",
       "      <th>upvote_ratio</th>\n",
       "      <th>2_way_label</th>\n",
       "      <th>3_way_label</th>\n",
       "      <th>6_way_label</th>\n",
       "    </tr>\n",
       "  </thead>\n",
       "  <tbody>\n",
       "    <tr>\n",
       "      <th>0</th>\n",
       "      <td>0</td>\n",
       "      <td>0</td>\n",
       "      <td>NaN</td>\n",
       "      <td>NaN</td>\n",
       "      <td>buzzly6</td>\n",
       "      <td>virginia first lady criticized for handing cot...</td>\n",
       "      <td>1.551316e+09</td>\n",
       "      <td>philly.com</td>\n",
       "      <td>False</td>\n",
       "      <td>avkxum</td>\n",
       "      <td>NaN</td>\n",
       "      <td>NaN</td>\n",
       "      <td>2.0</td>\n",
       "      <td>16</td>\n",
       "      <td>nottheonion</td>\n",
       "      <td>Virginia first lady criticized for handing cot...</td>\n",
       "      <td>0.69</td>\n",
       "      <td>1</td>\n",
       "      <td>0</td>\n",
       "      <td>0</td>\n",
       "    </tr>\n",
       "    <tr>\n",
       "      <th>1</th>\n",
       "      <td>1</td>\n",
       "      <td>1</td>\n",
       "      <td>NaN</td>\n",
       "      <td>NaN</td>\n",
       "      <td>NaN</td>\n",
       "      <td>jason falconer reluctant hero stopped mall att...</td>\n",
       "      <td>1.474326e+09</td>\n",
       "      <td>cnn.it</td>\n",
       "      <td>False</td>\n",
       "      <td>53kdz3</td>\n",
       "      <td>NaN</td>\n",
       "      <td>NaN</td>\n",
       "      <td>0.0</td>\n",
       "      <td>7</td>\n",
       "      <td>upliftingnews</td>\n",
       "      <td>Jason Falconer: Reluctant hero stopped mall at...</td>\n",
       "      <td>0.77</td>\n",
       "      <td>1</td>\n",
       "      <td>0</td>\n",
       "      <td>0</td>\n",
       "    </tr>\n",
       "    <tr>\n",
       "      <th>2</th>\n",
       "      <td>2</td>\n",
       "      <td>2</td>\n",
       "      <td>75691.0</td>\n",
       "      <td>335711.0</td>\n",
       "      <td>myternity</td>\n",
       "      <td>NaN</td>\n",
       "      <td>1.497067e+09</td>\n",
       "      <td>NaN</td>\n",
       "      <td>True</td>\n",
       "      <td>diperbi</td>\n",
       "      <td>http://i.imgur.com/cSIuEVF.jpg</td>\n",
       "      <td>6gc83w</td>\n",
       "      <td>NaN</td>\n",
       "      <td>3</td>\n",
       "      <td>psbattle_artwork</td>\n",
       "      <td>NaN</td>\n",
       "      <td>NaN</td>\n",
       "      <td>0</td>\n",
       "      <td>2</td>\n",
       "      <td>4</td>\n",
       "    </tr>\n",
       "    <tr>\n",
       "      <th>3</th>\n",
       "      <td>3</td>\n",
       "      <td>3</td>\n",
       "      <td>NaN</td>\n",
       "      <td>NaN</td>\n",
       "      <td>NaN</td>\n",
       "      <td>woman bites camels testicles to save herself a...</td>\n",
       "      <td>1.569178e+09</td>\n",
       "      <td>wbrz.com</td>\n",
       "      <td>False</td>\n",
       "      <td>d7upss</td>\n",
       "      <td>NaN</td>\n",
       "      <td>NaN</td>\n",
       "      <td>3.0</td>\n",
       "      <td>7</td>\n",
       "      <td>nottheonion</td>\n",
       "      <td>Woman bites camel’s testicles to save herself ...</td>\n",
       "      <td>1.00</td>\n",
       "      <td>1</td>\n",
       "      <td>0</td>\n",
       "      <td>0</td>\n",
       "    </tr>\n",
       "    <tr>\n",
       "      <th>4</th>\n",
       "      <td>4</td>\n",
       "      <td>4</td>\n",
       "      <td>190207.0</td>\n",
       "      <td>862707.0</td>\n",
       "      <td>trustbytrust</td>\n",
       "      <td>stargazer</td>\n",
       "      <td>1.425139e+09</td>\n",
       "      <td>NaN</td>\n",
       "      <td>True</td>\n",
       "      <td>cozywbv</td>\n",
       "      <td>http://i.imgur.com/BruWKDi.jpg</td>\n",
       "      <td>2xct9d</td>\n",
       "      <td>NaN</td>\n",
       "      <td>3</td>\n",
       "      <td>psbattle_artwork</td>\n",
       "      <td>stargazer</td>\n",
       "      <td>NaN</td>\n",
       "      <td>0</td>\n",
       "      <td>2</td>\n",
       "      <td>4</td>\n",
       "    </tr>\n",
       "  </tbody>\n",
       "</table>\n",
       "</div>"
      ],
      "text/plain": [
       "   Unnamed: 0.2  Unnamed: 0  Unnamed: 0.1  Unnamed: 0.1.1        author  \\\n",
       "0             0           0           NaN             NaN       buzzly6   \n",
       "1             1           1           NaN             NaN           NaN   \n",
       "2             2           2       75691.0        335711.0     myternity   \n",
       "3             3           3           NaN             NaN           NaN   \n",
       "4             4           4      190207.0        862707.0  trustbytrust   \n",
       "\n",
       "                                         clean_title   created_utc  \\\n",
       "0  virginia first lady criticized for handing cot...  1.551316e+09   \n",
       "1  jason falconer reluctant hero stopped mall att...  1.474326e+09   \n",
       "2                                                NaN  1.497067e+09   \n",
       "3  woman bites camels testicles to save herself a...  1.569178e+09   \n",
       "4                                          stargazer  1.425139e+09   \n",
       "\n",
       "       domain  hasImage       id                       image_url  \\\n",
       "0  philly.com     False   avkxum                             NaN   \n",
       "1      cnn.it     False   53kdz3                             NaN   \n",
       "2         NaN      True  diperbi  http://i.imgur.com/cSIuEVF.jpg   \n",
       "3    wbrz.com     False   d7upss                             NaN   \n",
       "4         NaN      True  cozywbv  http://i.imgur.com/BruWKDi.jpg   \n",
       "\n",
       "  linked_submission_id  num_comments  score         subreddit  \\\n",
       "0                  NaN           2.0     16       nottheonion   \n",
       "1                  NaN           0.0      7     upliftingnews   \n",
       "2               6gc83w           NaN      3  psbattle_artwork   \n",
       "3                  NaN           3.0      7       nottheonion   \n",
       "4               2xct9d           NaN      3  psbattle_artwork   \n",
       "\n",
       "                                               title  upvote_ratio  \\\n",
       "0  Virginia first lady criticized for handing cot...          0.69   \n",
       "1  Jason Falconer: Reluctant hero stopped mall at...          0.77   \n",
       "2                                                NaN           NaN   \n",
       "3  Woman bites camel’s testicles to save herself ...          1.00   \n",
       "4                                         stargazer            NaN   \n",
       "\n",
       "   2_way_label  3_way_label  6_way_label  \n",
       "0            1            0            0  \n",
       "1            1            0            0  \n",
       "2            0            2            4  \n",
       "3            1            0            0  \n",
       "4            0            2            4  "
      ]
     },
     "execution_count": 5,
     "metadata": {},
     "output_type": "execute_result"
    }
   ],
   "source": [
    "df_train.head()\n",
    "df_validate.head()\n",
    "df_test.head()"
   ]
  },
  {
   "cell_type": "markdown",
   "id": "fddeac84-7c0b-4de0-96a9-66b42fe34bd8",
   "metadata": {},
   "source": [
    "Remove the columns for \"2-way\" and \"3-way\" classification\n",
    "Remove the column \"title\" since we already have the \"clear_title\" column"
   ]
  },
  {
   "cell_type": "code",
   "execution_count": 6,
   "id": "9925e102-4dff-4eeb-a182-10786736df22",
   "metadata": {},
   "outputs": [
    {
     "name": "stdout",
     "output_type": "stream",
     "text": [
      "Processed and saved back to all_train_cleaned.tsv\n",
      "Processed and saved back to all_validate_cleaned.tsv\n",
      "Processed and saved back to all_test_cleaned.tsv\n"
     ]
    }
   ],
   "source": [
    "# List of columns to keep\n",
    "columns_to_keep = ['author', 'clean_title', '2_way_label']\n",
    "\n",
    "# For df_train\n",
    "try:\n",
    "    # Select only the columns you want to keep\n",
    "    selected_df = df_train[columns_to_keep]\n",
    "    \n",
    "    # Specify the output file path (change this to your desired file path)\n",
    "    output_file = 'all_train_cleaned.tsv'\n",
    "    \n",
    "    # Overwrite the original TSV file with the modified DataFrame\n",
    "    selected_df.to_csv(output_file, sep='\\t', index=False)\n",
    "    \n",
    "    # Validate that columns have been removed\n",
    "    print(f\"Processed and saved back to {output_file}\")\n",
    "except KeyError as e:\n",
    "    print(f\"One or more columns not found: {e}\")\n",
    "\n",
    "# For df_validate \n",
    "try:\n",
    "    # Select only the columns you want to keep\n",
    "    selected_df = df_validate[columns_to_keep]\n",
    "    \n",
    "    # Specify the output file path (change this to your desired file path)\n",
    "    output_file = 'all_validate_cleaned.tsv'\n",
    "    \n",
    "    # Overwrite the original TSV file with the modified DataFrame\n",
    "    selected_df.to_csv(output_file, sep='\\t', index=False)\n",
    "    \n",
    "    # Validate that columns have been removed\n",
    "    print(f\"Processed and saved back to {output_file}\")\n",
    "except KeyError as e:\n",
    "    print(f\"One or more columns not found: {e}\")\n",
    "\n",
    "# For #df_test\n",
    "try:\n",
    "    # Select only the columns you want to keep\n",
    "    selected_df = df_test[columns_to_keep]\n",
    "    \n",
    "    # Specify the output file path (change this to your desired file path)\n",
    "    output_file = 'all_test_cleaned.tsv'\n",
    "    \n",
    "    # Overwrite the original TSV file with the modified DataFrame\n",
    "    selected_df.to_csv(output_file, sep='\\t', index=False)\n",
    "    \n",
    "    # Validate that columns have been removed\n",
    "    print(f\"Processed and saved back to {output_file}\")\n",
    "except KeyError as e:\n",
    "    print(f\"One or more columns not found: {e}\")"
   ]
  },
  {
   "cell_type": "markdown",
   "id": "b6c4bff6-e6c6-4bf1-a91a-0ca5956801c6",
   "metadata": {},
   "source": [
    "Check that data looks correct  \n",
    "Note that df_train, df_validate and df_test are redefined here!"
   ]
  },
  {
   "cell_type": "code",
   "execution_count": 7,
   "id": "02bc5957-8c97-4c73-a714-d400f15af97a",
   "metadata": {},
   "outputs": [
    {
     "name": "stdout",
     "output_type": "stream",
     "text": [
      "Training data read\n",
      "Validation data read\n",
      "Test data read\n"
     ]
    },
    {
     "data": {
      "text/html": [
       "<div>\n",
       "<style scoped>\n",
       "    .dataframe tbody tr th:only-of-type {\n",
       "        vertical-align: middle;\n",
       "    }\n",
       "\n",
       "    .dataframe tbody tr th {\n",
       "        vertical-align: top;\n",
       "    }\n",
       "\n",
       "    .dataframe thead th {\n",
       "        text-align: right;\n",
       "    }\n",
       "</style>\n",
       "<table border=\"1\" class=\"dataframe\">\n",
       "  <thead>\n",
       "    <tr style=\"text-align: right;\">\n",
       "      <th></th>\n",
       "      <th>author</th>\n",
       "      <th>clean_title</th>\n",
       "      <th>2_way_label</th>\n",
       "    </tr>\n",
       "  </thead>\n",
       "  <tbody>\n",
       "    <tr>\n",
       "      <th>0</th>\n",
       "      <td>buzzly6</td>\n",
       "      <td>virginia first lady criticized for handing cot...</td>\n",
       "      <td>1</td>\n",
       "    </tr>\n",
       "    <tr>\n",
       "      <th>1</th>\n",
       "      <td>NaN</td>\n",
       "      <td>jason falconer reluctant hero stopped mall att...</td>\n",
       "      <td>1</td>\n",
       "    </tr>\n",
       "    <tr>\n",
       "      <th>2</th>\n",
       "      <td>myternity</td>\n",
       "      <td>NaN</td>\n",
       "      <td>0</td>\n",
       "    </tr>\n",
       "    <tr>\n",
       "      <th>3</th>\n",
       "      <td>NaN</td>\n",
       "      <td>woman bites camels testicles to save herself a...</td>\n",
       "      <td>1</td>\n",
       "    </tr>\n",
       "    <tr>\n",
       "      <th>4</th>\n",
       "      <td>trustbytrust</td>\n",
       "      <td>stargazer</td>\n",
       "      <td>0</td>\n",
       "    </tr>\n",
       "  </tbody>\n",
       "</table>\n",
       "</div>"
      ],
      "text/plain": [
       "         author                                        clean_title  \\\n",
       "0       buzzly6  virginia first lady criticized for handing cot...   \n",
       "1           NaN  jason falconer reluctant hero stopped mall att...   \n",
       "2     myternity                                                NaN   \n",
       "3           NaN  woman bites camels testicles to save herself a...   \n",
       "4  trustbytrust                                          stargazer   \n",
       "\n",
       "   2_way_label  \n",
       "0            1  \n",
       "1            1  \n",
       "2            0  \n",
       "3            1  \n",
       "4            0  "
      ]
     },
     "execution_count": 7,
     "metadata": {},
     "output_type": "execute_result"
    }
   ],
   "source": [
    "df_train = pd.read_csv('all_train_cleaned.tsv' , sep='\\t')\n",
    "# Validate that data has been read\n",
    "print(\"Training data read\")\n",
    "\n",
    "df_validate = pd.read_csv('all_validate_cleaned.tsv', sep='\\t')\n",
    "# Validate that data has been read\n",
    "print(\"Validation data read\")\n",
    "\n",
    "df_test = pd.read_csv('all_test_cleaned.tsv', sep='\\t')\n",
    "# Validate that data has been read\n",
    "print(\"Test data read\")\n",
    "\n",
    "df_train.head()\n",
    "df_validate.head()\n",
    "df_test.head()"
   ]
  },
  {
   "cell_type": "markdown",
   "id": "e172c962-4826-49d1-8221-44b12efc47e9",
   "metadata": {},
   "source": [
    "Check number of columns"
   ]
  },
  {
   "cell_type": "code",
   "execution_count": 8,
   "id": "01c52461-5358-4972-9483-52af864c8203",
   "metadata": {},
   "outputs": [
    {
     "data": {
      "text/plain": [
       "(878218, 3)"
      ]
     },
     "execution_count": 8,
     "metadata": {},
     "output_type": "execute_result"
    }
   ],
   "source": [
    "df_train.shape"
   ]
  },
  {
   "cell_type": "code",
   "execution_count": 9,
   "id": "c2af4aa1-1704-4cb1-b1b0-1b58d9f7e564",
   "metadata": {},
   "outputs": [
    {
     "data": {
      "text/plain": [
       "(92444, 3)"
      ]
     },
     "execution_count": 9,
     "metadata": {},
     "output_type": "execute_result"
    }
   ],
   "source": [
    "df_validate.shape"
   ]
  },
  {
   "cell_type": "code",
   "execution_count": 10,
   "id": "bd37ed1b-3a5c-4d8c-8a29-a7828485838d",
   "metadata": {},
   "outputs": [
    {
     "data": {
      "text/plain": [
       "(92444, 3)"
      ]
     },
     "execution_count": 10,
     "metadata": {},
     "output_type": "execute_result"
    }
   ],
   "source": [
    "df_test.shape"
   ]
  },
  {
   "cell_type": "markdown",
   "id": "87328ae9-f102-4577-9b7c-439667def597",
   "metadata": {},
   "source": [
    "Remove NaN values"
   ]
  },
  {
   "cell_type": "code",
   "execution_count": 11,
   "id": "779cca58-7c47-414a-96f8-d0013a12482d",
   "metadata": {},
   "outputs": [],
   "source": [
    "# For train set\n",
    "df_train_clean = df_train.dropna(subset=['clean_title'])\n",
    "df_train_clean.reset_index(drop = True, inplace = True)\n",
    "\n",
    "# For test set\n",
    "df_test_clean = df_test.dropna(subset=['clean_title'])\n",
    "df_test_clean.reset_index(drop = True, inplace = True)\n",
    "df_test = df_test_clean\n",
    "\n",
    "# For validate set\n",
    "df_validate_clean = df_train.dropna(subset=['clean_title'])\n",
    "df_validate_clean.reset_index(drop = True, inplace = True)\n",
    "df_validate = df_validate_clean"
   ]
  },
  {
   "cell_type": "markdown",
   "id": "e5fb4ee7-b5d7-40bb-9583-6499bab5fc42",
   "metadata": {},
   "source": [
    "Apply train_test_split() to minimize dataset with over 878,000 samples.\n",
    "\n",
    "Split the dataset and only use 1% data to train AND test (because of lack of compute)\n",
    "\n",
    "Stratify function is applied in order to maintain the same class sample distribution (percentage) from original dataset."
   ]
  },
  {
   "cell_type": "code",
   "execution_count": 12,
   "id": "0224260e-9d87-4bc2-bb0a-d7cc5924d2ca",
   "metadata": {},
   "outputs": [],
   "source": [
    "df_train_new, _ = train_test_split(\n",
    "    df_train_clean,\n",
    "    test_size = 0.95,\n",
    "    shuffle = True,\n",
    "    stratify = df_train_clean[\"2_way_label\"]\n",
    ")\n",
    "\n",
    "# Copy new dataframe over\n",
    "df_train = df_train_new\n",
    "\n",
    "# Remove NaN values\n",
    "df_train.reset_index(drop=True, inplace=True)"
   ]
  },
  {
   "cell_type": "code",
   "execution_count": 13,
   "id": "38969904-2c5d-4231-82e6-fe51058a17bc",
   "metadata": {},
   "outputs": [],
   "source": [
    "df_test_new, _ = train_test_split(\n",
    "    df_test,\n",
    "    test_size = 0.90,\n",
    "    shuffle = True,\n",
    "    stratify = df_test[\"2_way_label\"]\n",
    ")\n",
    "\n",
    "# Copy new dataframe over\n",
    "df_test = df_test_new\n",
    "\n",
    "# Remove NaN values\n",
    "df_test.reset_index(drop=True, inplace=True)"
   ]
  },
  {
   "cell_type": "markdown",
   "id": "c94ce072-cff8-4728-8672-8260664252d3",
   "metadata": {},
   "source": [
    "Check number of columns again"
   ]
  },
  {
   "cell_type": "code",
   "execution_count": 14,
   "id": "310e9fd5-e43f-4fb7-b60d-2940116a0d3c",
   "metadata": {},
   "outputs": [
    {
     "data": {
      "text/plain": [
       "(40139, 3)"
      ]
     },
     "execution_count": 14,
     "metadata": {},
     "output_type": "execute_result"
    }
   ],
   "source": [
    "df_train.shape"
   ]
  },
  {
   "cell_type": "code",
   "execution_count": 15,
   "id": "7c8a20d5-b27d-4fe4-9ddc-1aa7c47f3180",
   "metadata": {},
   "outputs": [
    {
     "data": {
      "text/plain": [
       "(8448, 3)"
      ]
     },
     "execution_count": 15,
     "metadata": {},
     "output_type": "execute_result"
    }
   ],
   "source": [
    "df_test.shape"
   ]
  },
  {
   "cell_type": "markdown",
   "id": "90d3f4bc-c434-439d-93fb-286d779566ff",
   "metadata": {},
   "source": [
    "Make sure no NaN values exist"
   ]
  },
  {
   "cell_type": "code",
   "execution_count": 16,
   "id": "c715491a-0d90-4890-8346-315bdf8bfe86",
   "metadata": {},
   "outputs": [
    {
     "name": "stdout",
     "output_type": "stream",
     "text": [
      "clean_title: 0\n",
      "clean_title: 0\n"
     ]
    }
   ],
   "source": [
    "print(\"clean_title:\", df_train[\"clean_title\"].isnull().sum())\n",
    "print(\"clean_title:\", df_test[\"clean_title\"].isnull().sum())"
   ]
  },
  {
   "cell_type": "markdown",
   "id": "f9a31d74-58db-4d98-a623-cfa27fe7df74",
   "metadata": {},
   "source": [
    "Check for null columns"
   ]
  },
  {
   "cell_type": "code",
   "execution_count": 17,
   "id": "ba040c3f-2c15-4002-aad7-1ae341c932b5",
   "metadata": {},
   "outputs": [
    {
     "name": "stdout",
     "output_type": "stream",
     "text": [
      "author         7255\n",
      "clean_title       0\n",
      "2_way_label       0\n",
      "dtype: int64\n",
      "author         1562\n",
      "clean_title       0\n",
      "2_way_label       0\n",
      "dtype: int64\n"
     ]
    }
   ],
   "source": [
    "print(df_train.isnull().sum())\n",
    "print(df_test.isnull().sum())"
   ]
  },
  {
   "cell_type": "markdown",
   "id": "87f8e00a-3d54-4d4a-9bc3-0fe2a721e8dd",
   "metadata": {},
   "source": [
    "Check distribution of data"
   ]
  },
  {
   "cell_type": "code",
   "execution_count": 18,
   "id": "9a303d52-3a98-4048-bf61-d302bf683f73",
   "metadata": {},
   "outputs": [
    {
     "data": {
      "text/plain": [
       "<Axes: title={'center': '2_way_label'}, ylabel='Frequency'>"
      ]
     },
     "execution_count": 18,
     "metadata": {},
     "output_type": "execute_result"
    },
    {
     "data": {
      "image/png": "[encoded data removed]",
      "text/plain": [
       "<Figure size 640x480 with 1 Axes>"
      ]
     },
     "metadata": {},
     "output_type": "display_data"
    }
   ],
   "source": [
    "df_train[\"2_way_label\"].plot(kind=\"hist\", bins=20, title=\"2_way_label\")\n",
    "df_test[\"2_way_label\"].plot(kind=\"hist\", bins=20, title=\"2_way_label\")"
   ]
  },
  {
   "cell_type": "markdown",
   "id": "1aa70e74-dda5-4582-87cd-bcf810fa1943",
   "metadata": {},
   "source": [
    "# Transforming Time"
   ]
  },
  {
   "cell_type": "markdown",
   "id": "8171c2c0-3162-4943-8eab-bf0d96249fb2",
   "metadata": {},
   "source": [
    "Set up BERT"
   ]
  },
  {
   "cell_type": "code",
   "execution_count": 19,
   "id": "4767359e-ede3-439f-8e62-9d8316b95377",
   "metadata": {},
   "outputs": [],
   "source": [
    "# BERT is part of transformers from HuggingFace\n",
    "!pip install --quiet transformers"
   ]
  },
  {
   "cell_type": "code",
   "execution_count": 20,
   "id": "263dfc63-3633-4dfa-b95c-1bf4d0b2b74f",
   "metadata": {},
   "outputs": [
    {
     "name": "stderr",
     "output_type": "stream",
     "text": [
      "C:\\Users\\ArcticWolf\\AppData\\Local\\Programs\\Python\\Python313\\Lib\\site-packages\\tqdm\\auto.py:21: TqdmWarning: IProgress not found. Please update jupyter and ipywidgets. See https://ipywidgets.readthedocs.io/en/stable/user_install.html\n",
      "  from .autonotebook import tqdm as notebook_tqdm\n"
     ]
    },
    {
     "data": {
      "text/plain": [
       "BertModel(\n",
       "  (embeddings): BertEmbeddings(\n",
       "    (word_embeddings): Embedding(30522, 768, padding_idx=0)\n",
       "    (position_embeddings): Embedding(512, 768)\n",
       "    (token_type_embeddings): Embedding(2, 768)\n",
       "    (LayerNorm): LayerNorm((768,), eps=1e-12, elementwise_affine=True)\n",
       "    (dropout): Dropout(p=0.1, inplace=False)\n",
       "  )\n",
       "  (encoder): BertEncoder(\n",
       "    (layer): ModuleList(\n",
       "      (0-11): 12 x BertLayer(\n",
       "        (attention): BertAttention(\n",
       "          (self): BertSdpaSelfAttention(\n",
       "            (query): Linear(in_features=768, out_features=768, bias=True)\n",
       "            (key): Linear(in_features=768, out_features=768, bias=True)\n",
       "            (value): Linear(in_features=768, out_features=768, bias=True)\n",
       "            (dropout): Dropout(p=0.1, inplace=False)\n",
       "          )\n",
       "          (output): BertSelfOutput(\n",
       "            (dense): Linear(in_features=768, out_features=768, bias=True)\n",
       "            (LayerNorm): LayerNorm((768,), eps=1e-12, elementwise_affine=True)\n",
       "            (dropout): Dropout(p=0.1, inplace=False)\n",
       "          )\n",
       "        )\n",
       "        (intermediate): BertIntermediate(\n",
       "          (dense): Linear(in_features=768, out_features=3072, bias=True)\n",
       "          (intermediate_act_fn): GELUActivation()\n",
       "        )\n",
       "        (output): BertOutput(\n",
       "          (dense): Linear(in_features=3072, out_features=768, bias=True)\n",
       "          (LayerNorm): LayerNorm((768,), eps=1e-12, elementwise_affine=True)\n",
       "          (dropout): Dropout(p=0.1, inplace=False)\n",
       "        )\n",
       "      )\n",
       "    )\n",
       "  )\n",
       "  (pooler): BertPooler(\n",
       "    (dense): Linear(in_features=768, out_features=768, bias=True)\n",
       "    (activation): Tanh()\n",
       "  )\n",
       ")"
      ]
     },
     "execution_count": 20,
     "metadata": {},
     "output_type": "execute_result"
    }
   ],
   "source": [
    "# Import tokenizer to generate embeddings\n",
    "from transformers import BertModel, BertTokenizer\n",
    "\n",
    "# Import torch\n",
    "import torch\n",
    "\n",
    "# Device Variable to check for CUDA compatibility\n",
    "device = \"cuda\" if torch.cuda.is_available() else \"cpu\"\n",
    "\n",
    "model_name = \"bert-base-uncased\"\n",
    "tokenizer = BertTokenizer.from_pretrained(model_name)\n",
    "bert_model = BertModel.from_pretrained(model_name, output_hidden_states = True)\n",
    "\n",
    "# Put the model in evaluation mode, which turns off dropout regularization which is used in training\n",
    "bert_model.eval()"
   ]
  },
  {
   "cell_type": "markdown",
   "id": "405242d5-c0ac-4a4c-99ee-6863c3cc4604",
   "metadata": {},
   "source": [
    "Generate embeddings"
   ]
  },
  {
   "cell_type": "code",
   "execution_count": 21,
   "id": "9490e859-d501-4320-8fdb-b4cdf6cf999b",
   "metadata": {},
   "outputs": [
    {
     "name": "stdout",
     "output_type": "stream",
     "text": [
      "torch.Size([80])\n",
      "torch.Size([80])\n",
      "tensor([  101,  2023,  2003,  2019,  7861,  8270,  4667,  2742,  2005,  8275,\n",
      "         2739, 10788,   102,     0,     0,     0,     0,     0,     0,     0,\n",
      "            0,     0,     0,     0,     0,     0,     0,     0,     0,     0,\n",
      "            0,     0,     0,     0,     0,     0,     0,     0,     0,     0,\n",
      "            0,     0,     0,     0,     0,     0,     0,     0,     0,     0,\n",
      "            0,     0,     0,     0,     0,     0,     0,     0,     0,     0,\n",
      "            0,     0,     0,     0,     0,     0,     0,     0,     0,     0,\n",
      "            0,     0,     0,     0,     0,     0,     0,     0,     0,     0])\n",
      "tensor([1, 1, 1, 1, 1, 1, 1, 1, 1, 1, 1, 1, 1, 0, 0, 0, 0, 0, 0, 0, 0, 0, 0, 0,\n",
      "        0, 0, 0, 0, 0, 0, 0, 0, 0, 0, 0, 0, 0, 0, 0, 0, 0, 0, 0, 0, 0, 0, 0, 0,\n",
      "        0, 0, 0, 0, 0, 0, 0, 0, 0, 0, 0, 0, 0, 0, 0, 0, 0, 0, 0, 0, 0, 0, 0, 0,\n",
      "        0, 0, 0, 0, 0, 0, 0, 0])\n"
     ]
    }
   ],
   "source": [
    "def get_bert_embedding(text):\n",
    "    inputs = tokenizer.encode_plus(\n",
    "        text, add_special_tokens=True,\n",
    "        return_tensors=\"pt\",\n",
    "        max_length=80,\n",
    "        truncation=True,\n",
    "        padding=\"max_length\"\n",
    "    )\n",
    "    \n",
    "    return inputs[\"input_ids\"].squeeze(0), inputs[\"attention_mask\"].squeeze(0)\n",
    "\n",
    "\n",
    "# Test embedding\n",
    "text = \"this is an embedding example for fake news detection\"\n",
    "input_ids, attention_mask = get_bert_embedding(text=text)\n",
    "print(input_ids.shape)\n",
    "print(attention_mask.shape)\n",
    "print(input_ids)\n",
    "print(attention_mask)"
   ]
  },
  {
   "cell_type": "markdown",
   "id": "f2dc3fe6-f382-4cd3-8564-1bce0e99fea1",
   "metadata": {},
   "source": [
    "Pre-process Text Data"
   ]
  },
  {
   "cell_type": "code",
   "execution_count": 22,
   "id": "c3de0f93-a3b6-4045-9b13-6b785603660d",
   "metadata": {},
   "outputs": [],
   "source": [
    "from torch.utils.data import Dataset, DataLoader\n",
    "\n",
    "class TextDataset(Dataset):\n",
    "    def __init__(self, dataframe, tokenizer, max_len=128):\n",
    "        self.text = dataframe['clean_title'].values\n",
    "        self.labels = dataframe['2_way_label'].values\n",
    "        self.tokenizer = tokenizer\n",
    "        self.max_len = max_len\n",
    "    \n",
    "    def __len__(self):\n",
    "        return len(self.text)\n",
    "    \n",
    "    def __getitem__(self, idx):\n",
    "        text = self.text[idx]\n",
    "        label = self.labels[idx]\n",
    "        \n",
    "        encoding = self.tokenizer.encode_plus(\n",
    "            text,\n",
    "            add_special_tokens=True,\n",
    "            max_length=self.max_len,\n",
    "            return_token_type_ids=False,\n",
    "            padding='max_length',\n",
    "            truncation=True,\n",
    "            return_attention_mask=True,\n",
    "            return_tensors='pt',\n",
    "        )\n",
    "\n",
    "        return {\n",
    "            'input_ids': encoding['input_ids'].flatten(),\n",
    "            'attention_mask': encoding['attention_mask'].flatten(),\n",
    "            'label': torch.tensor(label, dtype=torch.long)\n",
    "        }\n",
    "\n",
    "# Create Dataset\n",
    "train_dataset = TextDataset(df_train, tokenizer)\n",
    "test_dataset = TextDataset(df_test, tokenizer)\n",
    "\n",
    "# Create DataLoader\n",
    "train_dataloader = DataLoader(train_dataset, batch_size=32, shuffle=True)\n",
    "test_dataloader = DataLoader(test_dataset, batch_size=32, shuffle=True)"
   ]
  },
  {
   "cell_type": "markdown",
   "id": "53f28635-b44c-42c6-9318-10efc540dc67",
   "metadata": {},
   "source": [
    "# Training and Evaluation"
   ]
  },
  {
   "cell_type": "markdown",
   "id": "10f81952-8683-47d2-ad8f-a6250bd068ec",
   "metadata": {},
   "source": [
    "Loss function: Weighted Cross Entropy Loss with softmax activation function to return final probability\n",
    "* Apply the compute_class_weight to calculate percentage values per class for a weighted CrossEntropy\n",
    "* Since some classes have considerably more samples than others, all classes are weighted and taken as input into the loss calculation according to their respective number of samples  \n",
    "\n",
    "Details\n",
    "* Early stopping: Stop training if loss is increasing.\n",
    "* Optimizer: Adam\n",
    "* Learning rate: 1e-4\n",
    "* Epochs: 10"
   ]
  },
  {
   "cell_type": "markdown",
   "id": "0937bc72-0c10-4f2d-8736-a04b3e5a6f3b",
   "metadata": {},
   "source": [
    "Early Stopping Function"
   ]
  },
  {
   "cell_type": "code",
   "execution_count": 23,
   "id": "deaa6a61-9467-4928-a0e2-8e2100a83f1c",
   "metadata": {},
   "outputs": [],
   "source": [
    "class EarlyStopping:\n",
    "    def __init__(self, patience=4, verbose=False, delta=0):\n",
    "        self.patience = patience\n",
    "        self.verbose = verbose\n",
    "        self.counter = 0\n",
    "        self.best_loss = None\n",
    "        self.early_stop = False\n",
    "        self.delta = delta\n",
    "    \n",
    "    def __call__(self, val_loss, model=None):\n",
    "        if self.best_loss is None:\n",
    "            self.best_loss = val_loss\n",
    "        elif val_loss > self.best_loss + self.delta:\n",
    "            self.counter += 1\n",
    "            if self.verbose:\n",
    "                print(f\"EarlyStopping counter: {self.counter} out of {self.patience}\")\n",
    "            if self.counter >= self.patience:\n",
    "                self.early_stop = True\n",
    "        else:\n",
    "            self.best_loss = val_loss\n",
    "            self.counter = 0"
   ]
  },
  {
   "cell_type": "markdown",
   "id": "38117e3f-44c3-4875-bd2b-4d7fc99e9eb3",
   "metadata": {},
   "source": [
    "Create Training Function\n",
    "\n",
    "Usage: train_model(model, dataloader, criterion, optimizer, scheduler, num_epochs=10)"
   ]
  },
  {
   "cell_type": "code",
   "execution_count": 24,
   "id": "1632f0c1-9bda-4d4c-837d-bb92c71f90fd",
   "metadata": {},
   "outputs": [],
   "source": [
    "import torch\n",
    "from tqdm import tqdm\n",
    "\n",
    "def train_model(model, dataloader, criterion, optimizer, scheduler, num_epochs=10):\n",
    "    early_stopping = EarlyStopping(patience=5, verbose=True)\n",
    "    \n",
    "    for epoch in range(num_epochs):\n",
    "        model.train()\n",
    "        running_loss = 0.0\n",
    "        for batch in dataloader:\n",
    "            inputs = batch['input_ids'].to(device)\n",
    "            attention_mask = batch['attention_mask'].to(device)\n",
    "            labels = batch['label'].to(device)\n",
    "            \n",
    "            optimizer.zero_grad()\n",
    "            outputs = model(inputs, attention_mask=attention_mask)\n",
    "            loss = criterion(outputs.logits, labels)\n",
    "            loss.backward()\n",
    "            optimizer.step()\n",
    "            running_loss += loss.item()\n",
    "        epoch_loss = running_loss / len(dataloader)\n",
    "        print(f\"Epoch {epoch + 1}, Training Loss: {epoch_loss:.4f}\")\n",
    "        \n",
    "        # Validation\n",
    "        model.eval()\n",
    "        val_loss = 0.0\n",
    "        with torch.no_grad():\n",
    "            for batch in dataloader:\n",
    "                inputs = batch['input_ids'].to(device)\n",
    "                attention_mask = batch['attention_mask'].to(device)\n",
    "                labels = batch['label'].to(device)\n",
    "                \n",
    "                outputs = model(inputs, attention_mask=attention_mask)\n",
    "                loss = criterion(outputs.logits, labels)\n",
    "                val_loss += loss.item()\n",
    "        epoch_val_loss = val_loss / len(dataloader)\n",
    "        print(f\"Epoch {epoch + 1}, Validation Loss: {epoch_val_loss:.4f}\")\n",
    "        \n",
    "        # Early stopping\n",
    "        early_stopping(epoch_val_loss, model)\n",
    "        if early_stopping.early_stop:\n",
    "            print(\"Early stopping\")\n",
    "            break\n",
    "        \n",
    "        scheduler.step()"
   ]
  },
  {
   "cell_type": "markdown",
   "id": "2a576eea-b403-44f8-a9fd-2c9012f338f2",
   "metadata": {},
   "source": [
    "Create Evaluation Function\n",
    "\n",
    "Usage: evaluate_model(model, test_loader, criterion)"
   ]
  },
  {
   "cell_type": "code",
   "execution_count": 25,
   "id": "1d0946ad-124e-4599-991e-87d01814ac7f",
   "metadata": {},
   "outputs": [],
   "source": [
    "def evaluate_model(model, test_dataloader, criterion):\n",
    "    model.eval()\n",
    "    total_loss = 0.0\n",
    "\n",
    "    with torch.no_grad():\n",
    "        for batch in test_dataloader:\n",
    "            inputs = batch['input_ids'].to(device)\n",
    "            attention_mask = batch['attention_mask'].to(device)\n",
    "            labels = batch['label'].to(device)\n",
    "\n",
    "            outputs = model(inputs, attention_mask=attention_mask)\n",
    "            loss = criterion(outputs.squeeze(1), labels.float())\n",
    "\n",
    "            total_loss += loss.item()\n",
    "\n",
    "    avg_loss = total_loss / len(test_dataloader)\n",
    "    return avg_loss"
   ]
  },
  {
   "cell_type": "markdown",
   "id": "fa6216d3-e02e-4171-aff6-c3b917ba8323",
   "metadata": {},
   "source": [
    "Define Loss Function"
   ]
  },
  {
   "cell_type": "code",
   "execution_count": 26,
   "id": "499f76eb-bcaf-4cf7-802a-419509f691df",
   "metadata": {},
   "outputs": [],
   "source": [
    "from sklearn.utils.class_weight import compute_class_weight\n",
    "\n",
    "# Compute class weights from training labels\n",
    "labels = df_train['2_way_label'].to_numpy()\n",
    "# Compute weights for each class (0 and 1)\n",
    "class_weights = compute_class_weight(class_weight='balanced', classes=np.unique(labels), y=labels)\n",
    "class_weights = torch.tensor(class_weights, dtype=torch.float).to(device)\n",
    "\n",
    "# For BCEWithLogitsLoss, we use pos_weight for the positive class (class 1)\n",
    "# pos_weight is expected to be a tensor of size [1]\n",
    "pos_weight = torch.tensor([class_weights[1]], dtype=torch.float).to(device)"
   ]
  },
  {
   "cell_type": "markdown",
   "id": "21a71f74-3594-4fd7-9674-ebae7a3cc668",
   "metadata": {},
   "source": [
    "Define Train Function"
   ]
  },
  {
   "cell_type": "code",
   "execution_count": 27,
   "id": "64d4d6ef-0eac-4dc2-a9bb-75848ebff0b9",
   "metadata": {},
   "outputs": [],
   "source": [
    "def train_model(model, train_loader, criterion, optimizer, scheduler, num_epochs):\n",
    "    model.train()\n",
    "    for epoch in range(num_epochs):\n",
    "        for batch in tqdm(train_loader, desc=f\"Epoch {epoch + 1}/{num_epochs}\"):\n",
    "            input_ids = batch['input_ids'].to(device)\n",
    "            attention_mask = batch['attention_mask'].to(device)\n",
    "            labels = batch['label'].to(device).float()\n",
    "\n",
    "            optimizer.zero_grad()\n",
    "            outputs = model(input_ids, attention_mask=attention_mask)\n",
    "            loss = criterion(outputs.squeeze(), labels)\n",
    "            loss.backward()\n",
    "            optimizer.step()\n",
    "\n",
    "        scheduler.step(loss)\n",
    "        print(f\"Epoch {epoch + 1}/{num_epochs}, Loss: {loss.item()}\")"
   ]
  },
  {
   "cell_type": "markdown",
   "id": "e497b63a-eebb-4945-bdd2-a846229c7ce8",
   "metadata": {},
   "source": [
    "Create model itself"
   ]
  },
  {
   "cell_type": "code",
   "execution_count": 28,
   "id": "74aa5a6b-dd5d-4eb7-9811-3c26ca0a441e",
   "metadata": {},
   "outputs": [],
   "source": [
    "import torch.nn as nn\n",
    "from transformers import BertModel\n",
    "\n",
    "class BERT_Classifier(nn.Module):\n",
    "    def __init__(self, bert_model_name, num_labels=2):\n",
    "        super(BERT_Classifier, self).__init__()\n",
    "        self.bert = BertModel.from_pretrained(bert_model_name)\n",
    "        self.dropout = nn.Dropout(0.1)  # Dropout to prevent overfitting\n",
    "        self.classifier = nn.Linear(self.bert.config.hidden_size, num_labels)\n",
    "\n",
    "    def forward(self, input_ids, attention_mask=None):\n",
    "        outputs = self.bert(input_ids=input_ids, attention_mask=attention_mask)\n",
    "        \n",
    "        # Option 1: Using pooler_output\n",
    "        pooled_output = outputs.pooler_output\n",
    "\n",
    "        # Option 2: Using the [CLS] token from last_hidden_state (more robust)\n",
    "        # pooled_output = outputs.last_hidden_state[:, 0, :]\n",
    "\n",
    "        pooled_output = self.dropout(pooled_output)  # Apply dropout\n",
    "        logits = self.classifier(pooled_output)  # Pass through classifier\n",
    "        return logits"
   ]
  },
  {
   "cell_type": "code",
   "execution_count": 29,
   "id": "2e35067b-23aa-4531-863e-b57385206f45",
   "metadata": {},
   "outputs": [
    {
     "name": "stderr",
     "output_type": "stream",
     "text": [
      "C:\\Users\\ArcticWolf\\AppData\\Local\\Programs\\Python\\Python313\\Lib\\site-packages\\transformers\\optimization.py:640: FutureWarning: This implementation of AdamW is deprecated and will be removed in a future version. Use the PyTorch implementation torch.optim.AdamW instead, or set `no_deprecation_warning=True` to disable this warning\n",
      "  warnings.warn(\n",
      "C:\\Users\\ArcticWolf\\AppData\\Local\\Programs\\Python\\Python313\\Lib\\site-packages\\torch\\optim\\lr_scheduler.py:62: UserWarning: The verbose parameter is deprecated. Please use get_last_lr() to access the learning rate.\n",
      "  warnings.warn(\n"
     ]
    }
   ],
   "source": [
    "from torch.optim import lr_scheduler\n",
    "from transformers import AdamW, get_scheduler\n",
    "from torch.optim.lr_scheduler import ReduceLROnPlateau\n",
    "\n",
    "# Initialize your model (note: num_classes is set to 1 for binary classification)\n",
    "model = BERT_Classifier(bert_model_name='bert-base-uncased', num_labels=1)\n",
    "model = model.to(device)\n",
    "\n",
    "# Some values (will be explained later)\n",
    "criterion = nn.BCEWithLogitsLoss(pos_weight=pos_weight)\n",
    "optimizer = AdamW(model.parameters(), lr=1e-4)\n",
    "scheduler = ReduceLROnPlateau(optimizer, min_lr=1e-5, factor=0.5, patience=1, verbose=True)\n",
    "num_epochs = 5"
   ]
  },
  {
   "cell_type": "code",
   "execution_count": 30,
   "id": "30f7b3ed-e688-466d-8297-0ffefc3f5e59",
   "metadata": {},
   "outputs": [
    {
     "name": "stderr",
     "output_type": "stream",
     "text": [
      "Epoch 1/5: 100%|████████████████████████████████████████████████████████████████| 1255/1255 [07:17<00:00,  2.87it/s]\n"
     ]
    },
    {
     "name": "stdout",
     "output_type": "stream",
     "text": [
      "Epoch 1/5, Loss: 0.3015851676464081\n"
     ]
    },
    {
     "name": "stderr",
     "output_type": "stream",
     "text": [
      "Epoch 2/5: 100%|████████████████████████████████████████████████████████████████| 1255/1255 [07:14<00:00,  2.89it/s]\n"
     ]
    },
    {
     "name": "stdout",
     "output_type": "stream",
     "text": [
      "Epoch 2/5, Loss: 0.44528234004974365\n"
     ]
    },
    {
     "name": "stderr",
     "output_type": "stream",
     "text": [
      "Epoch 3/5: 100%|████████████████████████████████████████████████████████████████| 1255/1255 [07:15<00:00,  2.88it/s]\n"
     ]
    },
    {
     "name": "stdout",
     "output_type": "stream",
     "text": [
      "Epoch 3/5, Loss: 0.21300527453422546\n"
     ]
    },
    {
     "name": "stderr",
     "output_type": "stream",
     "text": [
      "Epoch 4/5: 100%|████████████████████████████████████████████████████████████████| 1255/1255 [07:15<00:00,  2.88it/s]\n"
     ]
    },
    {
     "name": "stdout",
     "output_type": "stream",
     "text": [
      "Epoch 4/5, Loss: 0.7064242362976074\n"
     ]
    },
    {
     "name": "stderr",
     "output_type": "stream",
     "text": [
      "Epoch 5/5: 100%|████████████████████████████████████████████████████████████████| 1255/1255 [07:15<00:00,  2.88it/s]"
     ]
    },
    {
     "name": "stdout",
     "output_type": "stream",
     "text": [
      "Epoch 5/5, Loss: 0.6780837774276733\n",
      "\n",
      "\n"
     ]
    },
    {
     "name": "stderr",
     "output_type": "stream",
     "text": [
      "\n"
     ]
    }
   ],
   "source": [
    "train_model(model, train_dataloader, criterion, optimizer, scheduler, num_epochs)\n",
    "print(\"\\n\")"
   ]
  },
  {
   "cell_type": "markdown",
   "id": "d2126b8d-567a-4a66-8e73-6d8a0fe22f21",
   "metadata": {},
   "source": [
    "Evaluate Model"
   ]
  },
  {
   "cell_type": "code",
   "execution_count": 32,
   "id": "0c684bad-e05b-4e58-8758-34e2a44f1add",
   "metadata": {},
   "outputs": [
    {
     "data": {
      "text/plain": [
       "0.6941574581644752"
      ]
     },
     "execution_count": 32,
     "metadata": {},
     "output_type": "execute_result"
    }
   ],
   "source": [
    "evaluate_model(model, test_dataloader, criterion)"
   ]
  },
  {
   "cell_type": "code",
   "execution_count": 33,
   "id": "f5e2f05a-4f3a-426a-992c-cada4c0494d4",
   "metadata": {},
   "outputs": [],
   "source": [
    "torch.save(model.state_dict(), \"model.pt\")"
   ]
  },
  {
   "cell_type": "markdown",
   "id": "a870adc7-a70c-43b7-a369-5d8f24d1857d",
   "metadata": {},
   "source": [
    "# Visualize Predictions after Training"
   ]
  },
  {
   "cell_type": "markdown",
   "id": "29314e0f-d99b-44d8-8eb1-3cf1e3a6436e",
   "metadata": {},
   "source": [
    "Evaluation Loop"
   ]
  },
  {
   "cell_type": "code",
   "execution_count": 43,
   "id": "71e612b3-ed8d-4e1c-89c6-a14f431347ce",
   "metadata": {},
   "outputs": [],
   "source": [
    "from sklearn.metrics import confusion_matrix\n",
    "import seaborn as sns\n",
    "import matplotlib.pyplot as plt\n",
    "\n",
    "model.eval()  # Set the model to evaluation mode\n",
    "all_preds = []\n",
    "all_labels = []\n",
    "\n",
    "with torch.no_grad():\n",
    "    for batch in test_dataloader:\n",
    "        input_ids = batch['input_ids'].to(device)\n",
    "        attention_mask = batch['attention_mask'].to(device)\n",
    "        label = batch['label'].to(device)\n",
    "\n",
    "        # Debugging\n",
    "        # print(f\"Input IDs type: {type(input_ids)}\")\n",
    "        # print(f\"Attention Mask type: {type(attention_mask)}\")\n",
    "        # print(f\"Label type: {type(label)}\")\n",
    "\n",
    "        outputs = model(\n",
    "            input_ids=input_ids,\n",
    "            attention_mask=attention_mask\n",
    "        )\n",
    "\n",
    "        _, preds = torch.max(outputs, dim=1)\n",
    "        \n",
    "        all_preds.extend(preds.cpu().numpy())\n",
    "        all_labels.extend(label.cpu().numpy())"
   ]
  },
  {
   "cell_type": "markdown",
   "id": "f69ee833-7c9d-4605-801c-fdeafcfb5936",
   "metadata": {},
   "source": [
    "Generate Confusion Matrix"
   ]
  },
  {
   "cell_type": "code",
   "execution_count": 47,
   "id": "e1982da9-4692-4193-a110-960a1d2596c9",
   "metadata": {},
   "outputs": [
    {
     "data": {
      "image/png": "[encoded data removed]",
      "text/plain": [
       "<Figure size 1000x800 with 2 Axes>"
      ]
     },
     "metadata": {},
     "output_type": "display_data"
    }
   ],
   "source": [
    "# Generate confusion matrix\n",
    "from sklearn.metrics import confusion_matrix\n",
    "\n",
    "cm = confusion_matrix(all_labels, all_preds, labels=sorted(set(all_labels)))\n",
    "class_names = sorted(set(all_labels))\n",
    "\n",
    "# Plot the confusion matrix\n",
    "plt.figure(figsize=(10, 8))\n",
    "sns.heatmap(cm, annot=True, fmt=\"d\", cmap=\"Blues\", xticklabels=class_names, yticklabels=class_names)\n",
    "plt.ylabel('True Label')\n",
    "plt.xlabel('Predicted Label')\n",
    "plt.xticks(rotation=45)\n",
    "plt.title('Confusion Matrix')\n",
    "plt.show()"
   ]
  },
  {
   "cell_type": "markdown",
   "id": "a0f4b85b-2dd3-45a1-8db1-21e8c4a5ef3d",
   "metadata": {},
   "source": [
    "Visualize Percentage of False Predictions Per Class"
   ]
  },
  {
   "cell_type": "code",
   "execution_count": 48,
   "id": "2a116d11-b6a1-44b4-b12b-4f930efa1617",
   "metadata": {},
   "outputs": [
    {
     "name": "stdout",
     "output_type": "stream",
     "text": [
      "Class '0' - False Predictions: 0.00%\n",
      "Class '1' - False Predictions: 100.00%\n",
      "Class with most false predictions: 1 (100.00%)\n"
     ]
    }
   ],
   "source": [
    "# Calculate false predictions for each class\n",
    "total_per_class = np.sum(cm, axis=1)\n",
    "correct_per_class = np.diagonal(cm)\n",
    "false_per_class = total_per_class - correct_per_class\n",
    "\n",
    "# Calculate percentage of false predictions per class\n",
    "false_percentage_per_class = (false_per_class / total_per_class) * 100\n",
    "\n",
    "# Display the results\n",
    "for idx, class_name in enumerate(class_names):\n",
    "    print(f\"Class '{class_name}' - False Predictions: {false_percentage_per_class[idx]:.2f}%\")\n",
    "\n",
    "# Find class with most false predictions\n",
    "max_false_class_idx = np.argmax(false_percentage_per_class)\n",
    "print(f\"Class with most false predictions: {class_names[max_false_class_idx]} ({false_percentage_per_class[max_false_class_idx]:.2f}%)\")"
   ]
  },
  {
   "cell_type": "markdown",
   "id": "981016d9-0bbf-4d1a-a46c-7f69e54f2284",
   "metadata": {},
   "source": [
    "Class Distribution Histogram"
   ]
  },
  {
   "cell_type": "code",
   "execution_count": 58,
   "id": "d80efbab-8ce1-4df1-8635-750d72883656",
   "metadata": {},
   "outputs": [
    {
     "name": "stdout",
     "output_type": "stream",
     "text": [
      "\n",
      "==================================================\n",
      "True Class: TRUE\n",
      "==================================================\n",
      "\n",
      "Correct Predictions:\n",
      "Predicted: TRUE\n",
      "Title: harvey weinstein\n",
      "--------------------------------------------------\n",
      "Predicted: TRUE\n",
      "Title: us antibias law does not protect transgender workers justice dept\n",
      "--------------------------------------------------\n",
      "\n",
      "Incorrect Predictions:\n",
      "\n",
      "==================================================\n",
      "True Class: SATIRE\n",
      "==================================================\n",
      "\n",
      "Correct Predictions:\n",
      "\n",
      "Incorrect Predictions:\n",
      "Predicted: TRUE\n",
      "Title: selfmade millionaire not buying a home is the single biggest millennial mistake\n",
      "--------------------------------------------------\n",
      "Predicted: TRUE\n",
      "Title: swedens first crusade to finland in colorised\n",
      "--------------------------------------------------\n",
      "\n",
      "==================================================\n",
      "True Class: FALSE CONNECTION\n",
      "==================================================\n",
      "\n",
      "Correct Predictions:\n",
      "\n",
      "Incorrect Predictions:\n",
      "\n",
      "==================================================\n",
      "True Class: IMPOSTER CONTENT\n",
      "==================================================\n",
      "\n",
      "Correct Predictions:\n",
      "\n",
      "Incorrect Predictions:\n",
      "\n",
      "==================================================\n",
      "True Class: MANIPULATED CONTENT\n",
      "==================================================\n",
      "\n",
      "Correct Predictions:\n",
      "\n",
      "Incorrect Predictions:\n",
      "\n",
      "==================================================\n",
      "True Class: MISLEADING CONTENT\n",
      "==================================================\n",
      "\n",
      "Correct Predictions:\n",
      "\n",
      "Incorrect Predictions:\n"
     ]
    }
   ],
   "source": [
    "import textwrap\n",
    "\n",
    "def display_text_predictions(test_loader, model, device):\n",
    "    \"\"\"\n",
    "    Displays 4 text samples per class with true labels, predicted labels, and cleaned titles.\n",
    "    \"\"\"\n",
    "    model.eval()\n",
    "    \n",
    "    class_names = ['TRUE', 'SATIRE', 'FALSE CONNECTION', 'IMPOSTER CONTENT', 'MANIPULATED CONTENT', 'MISLEADING CONTENT']\n",
    "    \n",
    "    # Dictionary to store samples for each class\n",
    "    class_samples = {i: {'correct': [], 'incorrect': []} for i in range(6)}\n",
    "\n",
    "    # Collect samples\n",
    "    with torch.no_grad():\n",
    "\n",
    "        # Debugging\n",
    "        # for batch in test_loader:\n",
    "        #     print(batch.keys())  # Inspect keys to check if 'clean_title' is present\n",
    "        #     break  # Only check the first batch\n",
    "        \n",
    "        for i, batch in enumerate(test_loader): \n",
    "\n",
    "            input_ids = batch['input_ids'].to(device)  # Define input_ids properly\n",
    "            attention_mask = batch['attention_mask'].to(device)\n",
    "            labels = batch['label'].to(device)  # Get true label\n",
    "\n",
    "            clean_titles = df_test.iloc[i * len(batch):(i + 1) * len(batch)]['clean_title'].tolist()\n",
    "\n",
    "            outputs = model(input_ids, attention_mask)\n",
    "            predictions = torch.argmax(outputs, dim=1)\n",
    "            \n",
    "            # Store samples with their titles\n",
    "            for true_label, pred_label, title in zip(labels, predictions, clean_titles):\n",
    "                true_label = true_label.item()\n",
    "                pred_label = pred_label.cpu().item()\n",
    "                \n",
    "                is_correct = true_label == pred_label\n",
    "                category = 'correct' if is_correct else 'incorrect'\n",
    "                \n",
    "                if len(class_samples[true_label][category]) < 2:\n",
    "                    class_samples[true_label][category].append((true_label, pred_label, title))\n",
    "            \n",
    "            if all(len(samples['correct']) == 2 and len(samples['incorrect']) == 2 \n",
    "                   for samples in class_samples.values()):\n",
    "                break\n",
    "    \n",
    "    # Display results\n",
    "    for class_idx in range(6):\n",
    "        print(f\"\\n{'='*50}\\nTrue Class: {class_names[class_idx]}\\n{'='*50}\")\n",
    "\n",
    "        # Display correct predictions\n",
    "        print(\"\\nCorrect Predictions:\")\n",
    "        for true_label, pred_label, title in class_samples[class_idx]['correct']:\n",
    "            wrapped_title = \"\\n\".join(textwrap.wrap(title, width=80))\n",
    "            print(f\"Predicted: {class_names[pred_label]}\\nTitle: {wrapped_title}\\n{'-'*50}\")\n",
    "\n",
    "        # Display incorrect predictions\n",
    "        print(\"\\nIncorrect Predictions:\")\n",
    "        for true_label, pred_label, title in class_samples[class_idx]['incorrect']:\n",
    "            wrapped_title = \"\\n\".join(textwrap.wrap(title, width=80))\n",
    "            print(f\"Predicted: {class_names[pred_label]}\\nTitle: {wrapped_title}\\n{'-'*50}\")\n",
    "\n",
    "# Usage\n",
    "model.to(device)\n",
    "display_text_predictions(test_dataloader, model, device)\n"
   ]
  }
 ],
 "metadata": {
  "kernelspec": {
   "display_name": "Python 3 (ipykernel)",
   "language": "python",
   "name": "python3"
  },
  "language_info": {
   "codemirror_mode": {
    "name": "ipython",
    "version": 3
   },
   "file_extension": ".py",
   "mimetype": "text/x-python",
   "name": "python",
   "nbconvert_exporter": "python",
   "pygments_lexer": "ipython3",
   "version": "3.13.2"
  }
 },
 "nbformat": 4,
 "nbformat_minor": 5
}
